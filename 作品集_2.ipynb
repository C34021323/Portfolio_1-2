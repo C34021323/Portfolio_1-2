{
  "nbformat": 4,
  "nbformat_minor": 0,
  "metadata": {
    "colab": {
      "provenance": [],
      "authorship_tag": "ABX9TyNjhmp8TJ1ul0hLcBzLpM1e",
      "include_colab_link": true
    },
    "kernelspec": {
      "name": "python3",
      "display_name": "Python 3"
    },
    "language_info": {
      "name": "python"
    }
  },
  "cells": [
    {
      "cell_type": "markdown",
      "metadata": {
        "id": "view-in-github",
        "colab_type": "text"
      },
      "source": [
        "<a href=\"https://colab.research.google.com/github/C34021323/Portfolio_1-2/blob/main/%E4%BD%9C%E5%93%81%E9%9B%86_2.ipynb\" target=\"_parent\"><img src=\"https://colab.research.google.com/assets/colab-badge.svg\" alt=\"Open In Colab\"/></a>"
      ]
    },
    {
      "cell_type": "markdown",
      "source": [
        "# **決策樹 vs 隨機森林: 從單一邏輯到集成判斷**"
      ],
      "metadata": {
        "id": "NLNyVB2215KZ"
      }
    },
    {
      "cell_type": "markdown",
      "source": [
        "決策樹視覺化"
      ],
      "metadata": {
        "id": "AATOIKhjr2no"
      }
    },
    {
      "cell_type": "code",
      "execution_count": null,
      "metadata": {
        "id": "c_7523JWynnO"
      },
      "outputs": [],
      "source": [
        "from sklearn.datasets import load_iris\n",
        "from sklearn.tree import DecisionTreeClassifier, plot_tree\n",
        "import matplotlib.pyplot as plt\n",
        "from sklearn.model_selection import train_test_split\n",
        "\n",
        "# 載入 Iris 資料集\n",
        "iris = load_iris()\n",
        "\n",
        "# 分割資料\n",
        "x_train, x_test, y_train, y_test = train_test_split(\n",
        "\t\tiris.data,\tiris.target, test_size=0.3, random_state=42)\n",
        "\n",
        "# 訓練模型\n",
        "tree_clf = DecisionTreeClassifier(max_depth=3, random_state=42)\n",
        "tree_clf.fit(x_train, y_train)\n",
        "\n",
        "# 設定 Matplotlib 圖表大小\n",
        "plt.figure(figsize=(12, 8))\n",
        "\n",
        "# 將決策樹視覺化\n",
        "plot_tree(tree_clf, feature_names=iris.feature_names, class_names=iris.target_names, filled=True)\n",
        "plt.show()"
      ]
    },
    {
      "cell_type": "markdown",
      "source": [
        "決策樹決策邊界視覺化"
      ],
      "metadata": {
        "id": "b7cnuZ5Yr8tQ"
      }
    },
    {
      "cell_type": "code",
      "source": [
        "!pip install mlxtend\n",
        "from mlxtend.plotting import plot_decision_regions\n",
        "\n",
        "# 合併訓練集與測試集 (決策邊界需要完整的資料範圍)\n",
        "x_combined_2d = np.vstack((x_train, x_test))\n",
        "y_combined = np.hstack((y_train, y_test))\n",
        "\n",
        "# 使用 mlxtend 繪製決策邊界\n",
        "plt.figure(figsize=(12, 8))\n",
        "plot_decision_regions(X=x_combined_2d, y=y_combined, clf=tree_clf, legend=2)\n",
        "\n",
        "plt.xlabel('Petal Length (cm)')\n",
        "plt.ylabel('Petal Width (cm)')\n",
        "plt.title('Decision Tree Decision Boundary')\n",
        "plt.legend(loc='upper left')\n",
        "plt.show()"
      ],
      "metadata": {
        "id": "ygAlku1I10vR"
      },
      "execution_count": null,
      "outputs": []
    },
    {
      "cell_type": "markdown",
      "source": [
        "隨機森林決策邊界視覺化"
      ],
      "metadata": {
        "id": "u5NtOFW4sE-3"
      }
    },
    {
      "cell_type": "code",
      "source": [
        "from sklearn.datasets import load_iris\n",
        "from sklearn.model_selection import train_test_split\n",
        "from sklearn.ensemble import RandomForestClassifier\n",
        "import matplotlib.pyplot as plt\n",
        "import numpy as np\n",
        "\n",
        "iris = load_iris()\n",
        "\n",
        "X = iris.data[:, [2, 3]]\n",
        "y = iris.target\n",
        "\n",
        "x_train, x_test, y_train, y_test = train_test_split(X, y, test_size=0.3, random_state=42)\n",
        "\n",
        "# 訓練隨機森林分類器\n",
        "rf = RandomForestClassifier(n_estimators=100, random_state=42)\n",
        "rf.fit(x_train, y_train)\n",
        "\n",
        "# 創建網格以便可視化決策邊界\n",
        "# h = 網格的間距\n",
        "h = 0.02\n",
        "x_min, x_max = X[:, 0].min() - 1, X[:, 0].max() + 1\n",
        "y_min, y_max = X[:, 1].min() - 1, X[:, 1].max() + 1\n",
        "\n",
        "# np.meshgrid = 建立2D網格\n",
        "xx, yy = np.meshgrid(np.arange(x_min, x_max, h), np.arange(y_min, y_max, h))\n",
        "\n",
        "# rf.predict = 使用隨機森林對每個網格點進行預測\n",
        "# np.c_[xx.ravel(), yy.ravel()] = 將xx跟yy展開成一維，再合併成二維數據陣列(x, y)，方便模型進行預測\n",
        "Z = rf.predict(np.c_[xx.ravel(), yy.ravel()])\n",
        "\n",
        "# 預測結果Z是個一維資料，需再轉換成二維資料顯示於圖上\n",
        "Z = Z.reshape(xx.shape)\n",
        "\n",
        "# 繪製決策邊界 (contour plot=等高線圖)\n",
        "plt.contourf(xx, yy, Z, alpha=0.4)\n",
        "\n",
        "# 資料點設定\n",
        "scatter = plt.scatter(X[:, 0], X[:, 1], c=y, edgecolors='k', marker='o', s=60, cmap=plt.cm.RdYlBu)\n",
        "\n",
        "plt.xlabel('Petal Length (cm)')\n",
        "plt.ylabel('Petal Width (cm)')\n",
        "plt.title('Random Forest Decision Boundary')\n",
        "\n",
        "# 添加 legend\n",
        "handles, labels = scatter.legend_elements()\n",
        "plt.legend(handles, labels, loc='upper left')\n",
        "\n",
        "plt.show()"
      ],
      "metadata": {
        "id": "Wfi_4ilT89GD"
      },
      "execution_count": null,
      "outputs": []
    }
  ]
}